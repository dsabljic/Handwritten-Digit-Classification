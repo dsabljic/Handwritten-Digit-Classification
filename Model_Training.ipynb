{
  "nbformat": 4,
  "nbformat_minor": 0,
  "metadata": {
    "colab": {
      "provenance": [],
      "gpuType": "T4"
    },
    "kernelspec": {
      "name": "python3",
      "display_name": "Python 3"
    },
    "language_info": {
      "name": "python"
    },
    "accelerator": "GPU"
  },
  "cells": [
    {
      "cell_type": "code",
      "execution_count": 3,
      "metadata": {
        "id": "TXqp_ew-Pv_Q"
      },
      "outputs": [],
      "source": [
        "import random\n",
        "import time\n",
        "import numpy as np\n",
        "import seaborn as sns\n",
        "import os\n",
        "import matplotlib.pyplot as plt\n",
        "\n",
        "import torch\n",
        "import torchvision\n",
        "import torch.nn as nn\n",
        "from torchvision import transforms\n",
        "from torch.utils.data import DataLoader\n",
        "\n",
        "from sklearn.metrics import confusion_matrix"
      ]
    },
    {
      "cell_type": "code",
      "source": [
        "class Model(nn.Module):\n",
        "\n",
        "    def __init__(self):\n",
        "        super(Model, self).__init__()\n",
        "        self.relu = nn.ReLU(inplace=True)\n",
        "        self.maxpool = nn.MaxPool2d(2, 2)\n",
        "\n",
        "        self.conv1 = nn.Conv2d(1, 32, 5, 1, 2)\n",
        "        self.bn1 = nn.BatchNorm2d(32)\n",
        "\n",
        "        self.conv2 = nn.Conv2d(32, 64, 5, 1, 2)\n",
        "        self.bn2 = nn.BatchNorm2d(64)\n",
        "\n",
        "        self.fc1 = nn.Linear(7 * 7 * 64, 1024)\n",
        "        self.fc2 = nn.Linear(1024, 10)\n",
        "        self.softmax = nn.Softmax(dim=1)\n",
        "\n",
        "    def forward(self, x):\n",
        "        x = self.conv1(x)\n",
        "        x = self.bn1(x)\n",
        "        x = self.relu(x)\n",
        "        x = self.maxpool(x)\n",
        "\n",
        "        x = self.conv2(x)\n",
        "        x = self.bn2(x)\n",
        "        x = self.relu(x)\n",
        "        x = self.maxpool(x)\n",
        "\n",
        "        x = torch.flatten(x, 1)\n",
        "        x = self.fc1(x)\n",
        "        x = self.relu(x)\n",
        "\n",
        "        x = self.fc2(x)\n",
        "        x = self.softmax(x)\n",
        "\n",
        "        return x"
      ],
      "metadata": {
        "id": "VB18yr7vhN21"
      },
      "execution_count": 4,
      "outputs": []
    },
    {
      "cell_type": "code",
      "source": [
        "SAVED_MODEL_PATH = 'app/checkpoint/best_accuracy.pth'"
      ],
      "metadata": {
        "id": "PuXKjzzPP-SX"
      },
      "execution_count": 11,
      "outputs": []
    },
    {
      "cell_type": "code",
      "source": [
        "device = torch.device('cuda' if torch.cuda.is_available() else 'cpu')\n",
        "print(f'Device: {device}')"
      ],
      "metadata": {
        "colab": {
          "base_uri": "https://localhost:8080/"
        },
        "id": "XNjJBlBbS-eE",
        "outputId": "7420cd2f-ac1c-467b-faff-01113bbdf893"
      },
      "execution_count": 6,
      "outputs": [
        {
          "output_type": "stream",
          "name": "stdout",
          "text": [
            "Device: cuda\n"
          ]
        }
      ]
    },
    {
      "cell_type": "code",
      "source": [
        "manual_seed = 1111\n",
        "batch_size = 64\n",
        "num_epoch = 30\n",
        "valid_interval = 1\n",
        "lr = 1e-4\n",
        "use_gpu = True"
      ],
      "metadata": {
        "id": "FttPskrjQqgk"
      },
      "execution_count": 7,
      "outputs": []
    },
    {
      "cell_type": "code",
      "source": [
        "random.seed(manual_seed)\n",
        "np.random.seed(manual_seed)\n",
        "torch.manual_seed(manual_seed)\n",
        "if torch.cuda.is_available():\n",
        "    torch.cuda.manual_seed(manual_seed)"
      ],
      "metadata": {
        "id": "27r0VCcNTnCd"
      },
      "execution_count": 8,
      "outputs": []
    },
    {
      "cell_type": "code",
      "source": [
        "model = Model().to(device)\n",
        "criterion = torch.nn.CrossEntropyLoss().to(device)\n",
        "optimizer = torch.optim.Adam(model.parameters(), lr=lr)"
      ],
      "metadata": {
        "id": "8q8YYwHHQhs-"
      },
      "execution_count": 9,
      "outputs": []
    },
    {
      "cell_type": "code",
      "source": [
        "transform = transforms.Compose([transforms.ToTensor(), transforms.Normalize((0.5,), (0.5,))])\n",
        "trainset = torchvision.datasets.MNIST(root=\"./data\", train=True, transform=transform, download=True)\n",
        "trainloader = torch.utils.data.DataLoader(trainset, batch_size=batch_size)\n",
        "valset = torchvision.datasets.MNIST(root=\"./data\", train=False, transform=transform, download=True)\n",
        "valloader = torch.utils.data.DataLoader(valset, batch_size=batch_size)"
      ],
      "metadata": {
        "id": "iSyFRZPVT30b",
        "colab": {
          "base_uri": "https://localhost:8080/"
        },
        "outputId": "8e82d195-fc74-4163-d0dd-23c4bdbce941"
      },
      "execution_count": 10,
      "outputs": [
        {
          "output_type": "stream",
          "name": "stdout",
          "text": [
            "Downloading http://yann.lecun.com/exdb/mnist/train-images-idx3-ubyte.gz\n",
            "Downloading http://yann.lecun.com/exdb/mnist/train-images-idx3-ubyte.gz to ./data/MNIST/raw/train-images-idx3-ubyte.gz\n"
          ]
        },
        {
          "output_type": "stream",
          "name": "stderr",
          "text": [
            "100%|██████████| 9912422/9912422 [00:00<00:00, 314281803.67it/s]"
          ]
        },
        {
          "output_type": "stream",
          "name": "stdout",
          "text": [
            "Extracting ./data/MNIST/raw/train-images-idx3-ubyte.gz to ./data/MNIST/raw\n"
          ]
        },
        {
          "output_type": "stream",
          "name": "stderr",
          "text": [
            "\n"
          ]
        },
        {
          "output_type": "stream",
          "name": "stdout",
          "text": [
            "\n",
            "Downloading http://yann.lecun.com/exdb/mnist/train-labels-idx1-ubyte.gz\n",
            "Downloading http://yann.lecun.com/exdb/mnist/train-labels-idx1-ubyte.gz to ./data/MNIST/raw/train-labels-idx1-ubyte.gz\n"
          ]
        },
        {
          "output_type": "stream",
          "name": "stderr",
          "text": [
            "100%|██████████| 28881/28881 [00:00<00:00, 102483666.52it/s]\n"
          ]
        },
        {
          "output_type": "stream",
          "name": "stdout",
          "text": [
            "Extracting ./data/MNIST/raw/train-labels-idx1-ubyte.gz to ./data/MNIST/raw\n",
            "\n",
            "Downloading http://yann.lecun.com/exdb/mnist/t10k-images-idx3-ubyte.gz\n",
            "Downloading http://yann.lecun.com/exdb/mnist/t10k-images-idx3-ubyte.gz to ./data/MNIST/raw/t10k-images-idx3-ubyte.gz\n"
          ]
        },
        {
          "output_type": "stream",
          "name": "stderr",
          "text": [
            "100%|██████████| 1648877/1648877 [00:00<00:00, 74213602.43it/s]"
          ]
        },
        {
          "output_type": "stream",
          "name": "stdout",
          "text": [
            "Extracting ./data/MNIST/raw/t10k-images-idx3-ubyte.gz to ./data/MNIST/raw\n",
            "\n",
            "Downloading http://yann.lecun.com/exdb/mnist/t10k-labels-idx1-ubyte.gz\n"
          ]
        },
        {
          "output_type": "stream",
          "name": "stderr",
          "text": [
            "\n"
          ]
        },
        {
          "output_type": "stream",
          "name": "stdout",
          "text": [
            "Downloading http://yann.lecun.com/exdb/mnist/t10k-labels-idx1-ubyte.gz to ./data/MNIST/raw/t10k-labels-idx1-ubyte.gz\n"
          ]
        },
        {
          "output_type": "stream",
          "name": "stderr",
          "text": [
            "100%|██████████| 4542/4542 [00:00<00:00, 23175825.75it/s]\n"
          ]
        },
        {
          "output_type": "stream",
          "name": "stdout",
          "text": [
            "Extracting ./data/MNIST/raw/t10k-labels-idx1-ubyte.gz to ./data/MNIST/raw\n",
            "\n"
          ]
        }
      ]
    },
    {
      "cell_type": "code",
      "source": [
        "best_eval_acc = 0\n",
        "start = time.time()\n",
        "for ep in range(num_epoch):\n",
        "    avg_loss = 0\n",
        "    model.train()\n",
        "    print(f\"{ep + 1}/{num_epoch} epoch start\")\n",
        "\n",
        "    for i, (imgs, labels) in enumerate(trainloader):\n",
        "        imgs, labels = imgs.to(device), labels.to(device)\n",
        "\n",
        "        preds = model(imgs)\n",
        "        loss = criterion(preds, labels)\n",
        "\n",
        "        optimizer.zero_grad()\n",
        "        loss.backward()\n",
        "        optimizer.step()\n",
        "        avg_loss += loss.item()\n",
        "\n",
        "        if i > 0 and i % 100 == 0:\n",
        "            print(f\"loss:{avg_loss / 100:.4f}\")\n",
        "            avg_loss = 0\n",
        "\n",
        "    if ep % valid_interval == 0:\n",
        "        tp, cnt = 0, 0\n",
        "        model.eval()\n",
        "        for i, (imgs, labels) in enumerate(valloader):\n",
        "            imgs, labels = imgs.to(device), labels.to(device)\n",
        "            with torch.no_grad():\n",
        "                preds = model(imgs)\n",
        "            preds = torch.argmax(preds, dim=1)\n",
        "            tp += (preds == labels).sum().item()\n",
        "            cnt += labels.shape[0]\n",
        "        acc = tp / cnt\n",
        "        print(f\"eval acc:{acc:.4f}\")\n",
        "\n",
        "    if acc > best_eval_acc:\n",
        "        best_eval_acc = acc\n",
        "\n",
        "        if not os.path.exists(os.path.dirname(SAVED_MODEL_PATH)):\n",
        "            os.makedirs(os.path.dirname(SAVED_MODEL_PATH))\n",
        "\n",
        "        torch.save(model.state_dict(), SAVED_MODEL_PATH)\n",
        "\n",
        "    print(f\"{ep + 1}/{num_epoch} epoch finished. elapsed time:{time.time() - start:.1f} sec\")\n",
        "\n",
        "print(f\"training finished. best eval acc:{best_eval_acc:.4f}\")"
      ],
      "metadata": {
        "colab": {
          "base_uri": "https://localhost:8080/"
        },
        "id": "QQ9t28KLas8i",
        "outputId": "8ba85e93-3f14-454d-f54a-d0e0a2ca6977"
      },
      "execution_count": 12,
      "outputs": [
        {
          "output_type": "stream",
          "name": "stdout",
          "text": [
            "1/30 epoch start\n",
            "loss:1.7678\n",
            "loss:1.5455\n",
            "loss:1.5197\n",
            "loss:1.5021\n",
            "loss:1.5000\n",
            "loss:1.4995\n",
            "loss:1.4972\n",
            "loss:1.4984\n",
            "loss:1.4884\n",
            "eval acc:0.9745\n",
            "1/30 epoch finished. elapsed time:23.8 sec\n",
            "2/30 epoch start\n",
            "loss:1.5017\n",
            "loss:1.4877\n",
            "loss:1.4844\n",
            "loss:1.4795\n",
            "loss:1.4839\n",
            "loss:1.4835\n",
            "loss:1.4810\n",
            "loss:1.4862\n",
            "loss:1.4791\n",
            "eval acc:0.9861\n",
            "2/30 epoch finished. elapsed time:48.0 sec\n",
            "3/30 epoch start\n",
            "loss:1.4942\n",
            "loss:1.4803\n",
            "loss:1.4775\n",
            "loss:1.4746\n",
            "loss:1.4796\n",
            "loss:1.4781\n",
            "loss:1.4791\n",
            "loss:1.4808\n",
            "loss:1.4755\n",
            "eval acc:0.9843\n",
            "3/30 epoch finished. elapsed time:67.9 sec\n",
            "4/30 epoch start\n",
            "loss:1.4900\n",
            "loss:1.4764\n",
            "loss:1.4748\n",
            "loss:1.4718\n",
            "loss:1.4757\n",
            "loss:1.4762\n",
            "loss:1.4756\n",
            "loss:1.4763\n",
            "loss:1.4745\n",
            "eval acc:0.9847\n",
            "4/30 epoch finished. elapsed time:90.7 sec\n",
            "5/30 epoch start\n",
            "loss:1.4885\n",
            "loss:1.4725\n",
            "loss:1.4711\n",
            "loss:1.4706\n",
            "loss:1.4746\n",
            "loss:1.4741\n",
            "loss:1.4739\n",
            "loss:1.4760\n",
            "loss:1.4739\n",
            "eval acc:0.9872\n",
            "5/30 epoch finished. elapsed time:114.3 sec\n",
            "6/30 epoch start\n",
            "loss:1.4863\n",
            "loss:1.4718\n",
            "loss:1.4724\n",
            "loss:1.4687\n",
            "loss:1.4746\n",
            "loss:1.4716\n",
            "loss:1.4722\n",
            "loss:1.4742\n",
            "loss:1.4716\n",
            "eval acc:0.9884\n",
            "6/30 epoch finished. elapsed time:138.0 sec\n",
            "7/30 epoch start\n",
            "loss:1.4862\n",
            "loss:1.4711\n",
            "loss:1.4712\n",
            "loss:1.4689\n",
            "loss:1.4726\n",
            "loss:1.4706\n",
            "loss:1.4700\n",
            "loss:1.4704\n",
            "loss:1.4695\n",
            "eval acc:0.9887\n",
            "7/30 epoch finished. elapsed time:158.8 sec\n",
            "8/30 epoch start\n",
            "loss:1.4835\n",
            "loss:1.4704\n",
            "loss:1.4697\n",
            "loss:1.4683\n",
            "loss:1.4706\n",
            "loss:1.4707\n",
            "loss:1.4702\n",
            "loss:1.4726\n",
            "loss:1.4693\n",
            "eval acc:0.9885\n",
            "8/30 epoch finished. elapsed time:179.4 sec\n",
            "9/30 epoch start\n",
            "loss:1.4836\n",
            "loss:1.4688\n",
            "loss:1.4685\n",
            "loss:1.4656\n",
            "loss:1.4691\n",
            "loss:1.4691\n",
            "loss:1.4682\n",
            "loss:1.4698\n",
            "loss:1.4690\n",
            "eval acc:0.9854\n",
            "9/30 epoch finished. elapsed time:199.1 sec\n",
            "10/30 epoch start\n",
            "loss:1.4828\n",
            "loss:1.4678\n",
            "loss:1.4683\n",
            "loss:1.4672\n",
            "loss:1.4700\n",
            "loss:1.4682\n",
            "loss:1.4681\n",
            "loss:1.4703\n",
            "loss:1.4689\n",
            "eval acc:0.9902\n",
            "10/30 epoch finished. elapsed time:219.1 sec\n",
            "11/30 epoch start\n",
            "loss:1.4831\n",
            "loss:1.4661\n",
            "loss:1.4662\n",
            "loss:1.4657\n",
            "loss:1.4677\n",
            "loss:1.4692\n",
            "loss:1.4683\n",
            "loss:1.4676\n",
            "loss:1.4683\n",
            "eval acc:0.9898\n",
            "11/30 epoch finished. elapsed time:239.6 sec\n",
            "12/30 epoch start\n",
            "loss:1.4821\n",
            "loss:1.4668\n",
            "loss:1.4668\n",
            "loss:1.4655\n",
            "loss:1.4662\n",
            "loss:1.4681\n",
            "loss:1.4671\n",
            "loss:1.4677\n",
            "loss:1.4672\n",
            "eval acc:0.9890\n",
            "12/30 epoch finished. elapsed time:259.2 sec\n",
            "13/30 epoch start\n",
            "loss:1.4824\n",
            "loss:1.4653\n",
            "loss:1.4658\n",
            "loss:1.4657\n",
            "loss:1.4675\n",
            "loss:1.4681\n",
            "loss:1.4660\n",
            "loss:1.4668\n",
            "loss:1.4664\n",
            "eval acc:0.9890\n",
            "13/30 epoch finished. elapsed time:279.4 sec\n",
            "14/30 epoch start\n",
            "loss:1.4827\n",
            "loss:1.4655\n",
            "loss:1.4675\n",
            "loss:1.4663\n",
            "loss:1.4655\n",
            "loss:1.4679\n",
            "loss:1.4663\n",
            "loss:1.4665\n",
            "loss:1.4660\n",
            "eval acc:0.9891\n",
            "14/30 epoch finished. elapsed time:300.1 sec\n",
            "15/30 epoch start\n",
            "loss:1.4815\n",
            "loss:1.4657\n",
            "loss:1.4649\n",
            "loss:1.4645\n",
            "loss:1.4663\n",
            "loss:1.4666\n",
            "loss:1.4661\n",
            "loss:1.4673\n",
            "loss:1.4666\n",
            "eval acc:0.9875\n",
            "15/30 epoch finished. elapsed time:319.8 sec\n",
            "16/30 epoch start\n",
            "loss:1.4805\n",
            "loss:1.4664\n",
            "loss:1.4648\n",
            "loss:1.4648\n",
            "loss:1.4663\n",
            "loss:1.4667\n",
            "loss:1.4670\n",
            "loss:1.4677\n",
            "loss:1.4665\n",
            "eval acc:0.9885\n",
            "16/30 epoch finished. elapsed time:340.0 sec\n",
            "17/30 epoch start\n",
            "loss:1.4811\n",
            "loss:1.4643\n",
            "loss:1.4654\n",
            "loss:1.4653\n",
            "loss:1.4654\n",
            "loss:1.4675\n",
            "loss:1.4659\n",
            "loss:1.4664\n",
            "loss:1.4658\n",
            "eval acc:0.9889\n",
            "17/30 epoch finished. elapsed time:360.2 sec\n",
            "18/30 epoch start\n",
            "loss:1.4799\n",
            "loss:1.4656\n",
            "loss:1.4640\n",
            "loss:1.4651\n",
            "loss:1.4668\n",
            "loss:1.4665\n",
            "loss:1.4655\n",
            "loss:1.4662\n",
            "loss:1.4662\n",
            "eval acc:0.9894\n",
            "18/30 epoch finished. elapsed time:380.3 sec\n",
            "19/30 epoch start\n",
            "loss:1.4815\n",
            "loss:1.4642\n",
            "loss:1.4640\n",
            "loss:1.4644\n",
            "loss:1.4650\n",
            "loss:1.4671\n",
            "loss:1.4659\n",
            "loss:1.4657\n",
            "loss:1.4657\n",
            "eval acc:0.9903\n",
            "19/30 epoch finished. elapsed time:400.5 sec\n",
            "20/30 epoch start\n",
            "loss:1.4797\n",
            "loss:1.4656\n",
            "loss:1.4642\n",
            "loss:1.4645\n",
            "loss:1.4649\n",
            "loss:1.4666\n",
            "loss:1.4649\n",
            "loss:1.4663\n",
            "loss:1.4648\n",
            "eval acc:0.9913\n",
            "20/30 epoch finished. elapsed time:420.4 sec\n",
            "21/30 epoch start\n",
            "loss:1.4792\n",
            "loss:1.4641\n",
            "loss:1.4645\n",
            "loss:1.4645\n",
            "loss:1.4647\n",
            "loss:1.4664\n",
            "loss:1.4656\n",
            "loss:1.4661\n",
            "loss:1.4650\n",
            "eval acc:0.9921\n",
            "21/30 epoch finished. elapsed time:440.2 sec\n",
            "22/30 epoch start\n",
            "loss:1.4793\n",
            "loss:1.4642\n",
            "loss:1.4636\n",
            "loss:1.4639\n",
            "loss:1.4645\n",
            "loss:1.4654\n",
            "loss:1.4650\n",
            "loss:1.4651\n",
            "loss:1.4667\n",
            "eval acc:0.9909\n",
            "22/30 epoch finished. elapsed time:460.2 sec\n",
            "23/30 epoch start\n",
            "loss:1.4791\n",
            "loss:1.4646\n",
            "loss:1.4650\n",
            "loss:1.4644\n",
            "loss:1.4657\n",
            "loss:1.4666\n",
            "loss:1.4648\n",
            "loss:1.4646\n",
            "loss:1.4644\n",
            "eval acc:0.9934\n",
            "23/30 epoch finished. elapsed time:480.3 sec\n",
            "24/30 epoch start\n",
            "loss:1.4794\n",
            "loss:1.4648\n",
            "loss:1.4649\n",
            "loss:1.4638\n",
            "loss:1.4641\n",
            "loss:1.4655\n",
            "loss:1.4655\n",
            "loss:1.4655\n",
            "loss:1.4656\n",
            "eval acc:0.9909\n",
            "24/30 epoch finished. elapsed time:500.1 sec\n",
            "25/30 epoch start\n",
            "loss:1.4815\n",
            "loss:1.4645\n",
            "loss:1.4642\n",
            "loss:1.4637\n",
            "loss:1.4647\n",
            "loss:1.4655\n",
            "loss:1.4646\n",
            "loss:1.4654\n",
            "loss:1.4646\n",
            "eval acc:0.9926\n",
            "25/30 epoch finished. elapsed time:520.1 sec\n",
            "26/30 epoch start\n",
            "loss:1.4797\n",
            "loss:1.4651\n",
            "loss:1.4637\n",
            "loss:1.4635\n",
            "loss:1.4655\n",
            "loss:1.4656\n",
            "loss:1.4644\n",
            "loss:1.4644\n",
            "loss:1.4639\n",
            "eval acc:0.9913\n",
            "26/30 epoch finished. elapsed time:540.4 sec\n",
            "27/30 epoch start\n",
            "loss:1.4795\n",
            "loss:1.4636\n",
            "loss:1.4643\n",
            "loss:1.4634\n",
            "loss:1.4642\n",
            "loss:1.4654\n",
            "loss:1.4644\n",
            "loss:1.4646\n",
            "loss:1.4639\n",
            "eval acc:0.9926\n",
            "27/30 epoch finished. elapsed time:560.2 sec\n",
            "28/30 epoch start\n",
            "loss:1.4786\n",
            "loss:1.4658\n",
            "loss:1.4638\n",
            "loss:1.4631\n",
            "loss:1.4643\n",
            "loss:1.4662\n",
            "loss:1.4667\n",
            "loss:1.4654\n",
            "loss:1.4644\n",
            "eval acc:0.9901\n",
            "28/30 epoch finished. elapsed time:580.3 sec\n",
            "29/30 epoch start\n",
            "loss:1.4794\n",
            "loss:1.4632\n",
            "loss:1.4628\n",
            "loss:1.4629\n",
            "loss:1.4640\n",
            "loss:1.4652\n",
            "loss:1.4641\n",
            "loss:1.4648\n",
            "loss:1.4635\n",
            "eval acc:0.9916\n",
            "29/30 epoch finished. elapsed time:600.5 sec\n",
            "30/30 epoch start\n",
            "loss:1.4791\n",
            "loss:1.4627\n",
            "loss:1.4656\n",
            "loss:1.4632\n",
            "loss:1.4643\n",
            "loss:1.4656\n",
            "loss:1.4648\n",
            "loss:1.4651\n",
            "loss:1.4637\n",
            "eval acc:0.9914\n",
            "30/30 epoch finished. elapsed time:620.7 sec\n",
            "training finished. best eval acc:0.9934\n"
          ]
        }
      ]
    },
    {
      "cell_type": "markdown",
      "source": [
        "## Učitavanje i evaluacija modela"
      ],
      "metadata": {
        "id": "rS9Lf_XthzwT"
      }
    },
    {
      "cell_type": "code",
      "source": [
        "model = Model()\n",
        "device = torch.device('cuda' if torch.cuda.is_available() else 'cpu')\n",
        "model.to(device)"
      ],
      "metadata": {
        "colab": {
          "base_uri": "https://localhost:8080/"
        },
        "id": "pUHzG7aze44Q",
        "outputId": "2d92d4fc-8145-4f68-8f12-29f5692d34b8"
      },
      "execution_count": 13,
      "outputs": [
        {
          "output_type": "execute_result",
          "data": {
            "text/plain": [
              "Model(\n",
              "  (relu): ReLU(inplace=True)\n",
              "  (maxpool): MaxPool2d(kernel_size=2, stride=2, padding=0, dilation=1, ceil_mode=False)\n",
              "  (conv1): Conv2d(1, 32, kernel_size=(5, 5), stride=(1, 1), padding=(2, 2))\n",
              "  (bn1): BatchNorm2d(32, eps=1e-05, momentum=0.1, affine=True, track_running_stats=True)\n",
              "  (conv2): Conv2d(32, 64, kernel_size=(5, 5), stride=(1, 1), padding=(2, 2))\n",
              "  (bn2): BatchNorm2d(64, eps=1e-05, momentum=0.1, affine=True, track_running_stats=True)\n",
              "  (fc1): Linear(in_features=3136, out_features=1024, bias=True)\n",
              "  (fc2): Linear(in_features=1024, out_features=10, bias=True)\n",
              "  (softmax): Softmax(dim=1)\n",
              ")"
            ]
          },
          "metadata": {},
          "execution_count": 13
        }
      ]
    },
    {
      "cell_type": "code",
      "source": [
        "if os.path.exists(SAVED_MODEL_PATH):\n",
        "    model.load_state_dict(torch.load(SAVED_MODEL_PATH, map_location=device))\n",
        "    print(\"Model weights loaded successfully.\")\n",
        "else:\n",
        "    print(\"Model weights file not found. Please check the path.\")"
      ],
      "metadata": {
        "colab": {
          "base_uri": "https://localhost:8080/"
        },
        "id": "6l5pOrWlfZ-4",
        "outputId": "9e9b0eaa-442b-4e07-b2ed-2988c564803b"
      },
      "execution_count": 14,
      "outputs": [
        {
          "output_type": "stream",
          "name": "stdout",
          "text": [
            "Model weights loaded successfully.\n"
          ]
        }
      ]
    },
    {
      "cell_type": "code",
      "source": [
        "transform = transforms.Compose([\n",
        "    transforms.ToTensor(),\n",
        "    transforms.Normalize((0.5,), (0.5,))\n",
        "])\n",
        "\n",
        "valset = torchvision.datasets.MNIST(root='./data', train=False, download=True, transform=transform)\n",
        "valloader = DataLoader(valset, batch_size=5, shuffle=True)"
      ],
      "metadata": {
        "id": "JxATYPvxgDro"
      },
      "execution_count": 15,
      "outputs": []
    },
    {
      "cell_type": "code",
      "source": [
        "def evaluate_model(model, loader, device):\n",
        "    all_preds = []\n",
        "    all_labels = []\n",
        "    model.eval()\n",
        "    with torch.no_grad():\n",
        "        for imgs, labels in loader:\n",
        "            imgs, labels = imgs.to(device), labels.to(device)\n",
        "            preds = model(imgs)\n",
        "            all_preds.append(preds.cpu())\n",
        "            all_labels.append(labels.cpu())\n",
        "    all_preds = torch.cat(all_preds)\n",
        "    all_labels = torch.cat(all_labels)\n",
        "    return all_preds, all_labels"
      ],
      "metadata": {
        "id": "pRtm4e7vmBuq"
      },
      "execution_count": 16,
      "outputs": []
    },
    {
      "cell_type": "code",
      "source": [
        "all_preds, all_labels = evaluate_model(model, valloader, device)\n",
        "\n",
        "pred_labels = all_preds.argmax(dim=1)\n",
        "cm = confusion_matrix(all_labels.numpy(), pred_labels.numpy())\n",
        "\n",
        "plt.figure(figsize=(10, 7))\n",
        "sns.heatmap(cm, annot=True, fmt='d', cmap='Blues', xticklabels=range(10), yticklabels=range(10))\n",
        "plt.xlabel('Predicted Labels')\n",
        "plt.ylabel('True Labels')\n",
        "plt.show()"
      ],
      "metadata": {
        "colab": {
          "base_uri": "https://localhost:8080/",
          "height": 619
        },
        "id": "Vg85J4CKnl1p",
        "outputId": "fa13dbb0-2d6a-4e60-effd-557b70b28172"
      },
      "execution_count": 17,
      "outputs": [
        {
          "output_type": "display_data",
          "data": {
            "text/plain": [
              "<Figure size 1000x700 with 2 Axes>"
            ],
            "image/png": "[encoded data removed]"
          },
          "metadata": {}
        }
      ]
    },
    {
      "cell_type": "code",
      "source": [
        "def visualize_images(images, true_labels, predicted_labels, figsize=(15, 3)):\n",
        "    num_images = len(images)\n",
        "    fig, axs = plt.subplots(1, num_images, figsize=figsize)\n",
        "    for i in range(num_images):\n",
        "        axs[i].imshow(images[i].squeeze(), cmap='gray')\n",
        "        title = f'Label: {true_labels[i]}\\nPrediction: {predicted_labels[i]}'\n",
        "        axs[i].set_title(title)\n",
        "        axs[i].axis('off')\n",
        "    plt.show()"
      ],
      "metadata": {
        "id": "MzF2z15NnIZZ"
      },
      "execution_count": 18,
      "outputs": []
    },
    {
      "cell_type": "code",
      "source": [
        "def visualize_predictions(model, data_loader, device, num_images=5):\n",
        "    images, labels = next(iter(data_loader))\n",
        "    images, labels = images.to(device)[:num_images], labels.to(device)[:num_images]\n",
        "    model.eval()\n",
        "    with torch.no_grad():\n",
        "        outputs = model(images)\n",
        "        _, predicted = torch.max(outputs, 1)\n",
        "    visualize_images(images.cpu().numpy(), labels.cpu().numpy(), predicted.cpu().numpy())"
      ],
      "metadata": {
        "id": "AlCN2ARanMfa"
      },
      "execution_count": 19,
      "outputs": []
    },
    {
      "cell_type": "code",
      "source": [
        "visualize_predictions(model, valloader, device, num_images=5)"
      ],
      "metadata": {
        "colab": {
          "base_uri": "https://localhost:8080/",
          "height": 280
        },
        "id": "AIukPOdpnvZ0",
        "outputId": "c4d259cf-090c-4de3-9d4e-0daed389b795"
      },
      "execution_count": 20,
      "outputs": [
        {
          "output_type": "display_data",
          "data": {
            "text/plain": [
              "<Figure size 1500x300 with 5 Axes>"
            ],
            "image/png": "[encoded data removed]"
          },
          "metadata": {}
        }
      ]
    },
    {
      "cell_type": "code",
      "source": [
        "def visualize_incorrect_predictions(model, data_loader, device, num_images=5):\n",
        "    model.eval()\n",
        "    incorrect_images, incorrect_labels, incorrect_preds = [], [], []\n",
        "    with torch.no_grad():\n",
        "        for images, labels in data_loader:\n",
        "            images, labels = images.to(device), labels.to(device)\n",
        "            outputs = model(images)\n",
        "            _, preds = torch.max(outputs, 1)\n",
        "            mismatches = preds != labels\n",
        "            for i, mismatch in enumerate(mismatches):\n",
        "                if mismatch and len(incorrect_images) < num_images:\n",
        "                    incorrect_images.append(images[i].cpu().numpy())\n",
        "                    incorrect_labels.append(labels[i].item())\n",
        "                    incorrect_preds.append(preds[i].item())\n",
        "                if len(incorrect_images) == num_images:\n",
        "                    break\n",
        "            if len(incorrect_images) == num_images:\n",
        "                break\n",
        "    if len(incorrect_images) > 0:\n",
        "        visualize_images(np.array(incorrect_images), incorrect_labels, incorrect_preds)\n",
        "    else:\n",
        "        print(\"No incorrect predictions found or not enough samples to display.\")"
      ],
      "metadata": {
        "id": "wzCveD5anPWI"
      },
      "execution_count": 21,
      "outputs": []
    },
    {
      "cell_type": "code",
      "source": [
        "visualize_incorrect_predictions(model, valloader, device, num_images=5)"
      ],
      "metadata": {
        "colab": {
          "base_uri": "https://localhost:8080/",
          "height": 280
        },
        "id": "bgeicfI2n5-K",
        "outputId": "0ad435ed-b23e-4791-e527-1d10c763f072"
      },
      "execution_count": 23,
      "outputs": [
        {
          "output_type": "display_data",
          "data": {
            "text/plain": [
              "<Figure size 1500x300 with 5 Axes>"
            ],
            "image/png": "[encoded data removed]"
          },
          "metadata": {}
        }
      ]
    }
  ]
}